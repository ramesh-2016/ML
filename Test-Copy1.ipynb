{
 "cells": [
  {
   "cell_type": "code",
   "execution_count": 96,
   "id": "f5290cc3-d935-499f-aa34-87336fe2d53a",
   "metadata": {},
   "outputs": [],
   "source": [
    "import pandas as pd\n",
    "import numpy as np"
   ]
  },
  {
   "cell_type": "code",
   "execution_count": null,
   "id": "9bef8380-217c-4f47-8df3-3f465ed58065",
   "metadata": {},
   "outputs": [],
   "source": [
    "!pip install scikit-learn"
   ]
  },
  {
   "cell_type": "code",
   "execution_count": 98,
   "id": "1e7ce220-3384-4832-a2f3-ad89ec783edd",
   "metadata": {},
   "outputs": [
    {
     "name": "stdout",
     "output_type": "stream",
     "text": [
      "1.4.2\n"
     ]
    }
   ],
   "source": [
    "import sklearn\n",
    "print(sklearn.__version__)"
   ]
  },
  {
   "cell_type": "code",
   "execution_count": 99,
   "id": "25caa449-f94e-4f1f-86bb-11ab80292002",
   "metadata": {},
   "outputs": [],
   "source": [
    "import pickle"
   ]
  },
  {
   "cell_type": "code",
   "execution_count": 100,
   "id": "4e4826d6-d406-4a75-8282-d5ad4fce36f4",
   "metadata": {},
   "outputs": [],
   "source": [
    "import matplotlib.pyplot as mlt"
   ]
  },
  {
   "cell_type": "code",
   "execution_count": 101,
   "id": "d3d7cfe9-0477-47df-b64f-7fe5dfbb9257",
   "metadata": {},
   "outputs": [],
   "source": [
    "import seaborn as sns"
   ]
  },
  {
   "cell_type": "code",
   "execution_count": 102,
   "id": "5d561f49-2aeb-4eaf-bb69-5b61c6690cfb",
   "metadata": {},
   "outputs": [],
   "source": [
    "##from sklearn.linear_model import LinearRegression"
   ]
  },
  {
   "cell_type": "code",
   "execution_count": 103,
   "id": "8ce1d62f-12af-468b-ab60-4640ca9644f9",
   "metadata": {},
   "outputs": [],
   "source": [
    "df=pd.read_csv(\"Cleaned_Data.csv\")"
   ]
  },
  {
   "cell_type": "code",
   "execution_count": 104,
   "id": "73b901ae-990e-41d9-82fa-42abac50207c",
   "metadata": {},
   "outputs": [
    {
     "name": "stdout",
     "output_type": "stream",
     "text": [
      "      Sl. No. ROAD_NUMBER  JRDCN_CODE LKP_ROAD_CATEGORY JRDCN_SHORT_CODE  \\\n",
      "0           1          12           7                SH         GOALPARA   \n",
      "1           2          12           7                SH         GOALPARA   \n",
      "2           3          12           7                SH         GOALPARA   \n",
      "3           4          12           7                SH         GOALPARA   \n",
      "4           5          12           7                SH         GOALPARA   \n",
      "...       ...         ...         ...               ...              ...   \n",
      "8727     8728           2          62               MDR              WKA   \n",
      "8728     8729           2          62               MDR              WKA   \n",
      "8729     8730           2          62               MDR              WKA   \n",
      "8730     8731           1         500               MDR       NONPWDROAD   \n",
      "8731     8732           1         500               MDR       NONPWDROAD   \n",
      "\n",
      "     DIRECTIONFLAG  CRACK_EXTENT  POTH_EXTENT  RAVE_EXTENT  RUTT_EXTENT  \\\n",
      "0                A           0.0          0.0          0.0          0.0   \n",
      "1                A           0.0          0.0          0.0          0.0   \n",
      "2                A           0.0          0.0          0.0          0.0   \n",
      "3                A           0.0          0.0          0.0          0.0   \n",
      "4                A           0.0          0.0          0.0          0.0   \n",
      "...            ...           ...          ...          ...          ...   \n",
      "8727             A           0.0          0.0          0.0          0.0   \n",
      "8728             A           0.0          0.0          0.0          0.0   \n",
      "8729             A           1.0          1.0          0.0          3.0   \n",
      "8730             A           2.0          1.0          1.0          3.0   \n",
      "8731             A           2.0          0.0          0.0          3.0   \n",
      "\n",
      "      EDGE_BREAK_EXTENT  FAILED_SECTION_EXTENT  SHOULDER_DROP_OFF_SEVERITY  \\\n",
      "0                   0.0                    0.0                         0.0   \n",
      "1                   0.0                    0.0                         0.0   \n",
      "2                   0.0                    0.0                         0.0   \n",
      "3                   0.0                    0.0                         0.0   \n",
      "4                   0.0                    0.0                         0.0   \n",
      "...                 ...                    ...                         ...   \n",
      "8727                0.0                    3.0                         0.0   \n",
      "8728                0.0                    3.0                         0.0   \n",
      "8729                0.0                    0.0                         0.0   \n",
      "8730                0.0                    0.0                         0.0   \n",
      "8731                0.0                    0.0                         0.0   \n",
      "\n",
      "       IRI  \n",
      "0      4.5  \n",
      "1      3.6  \n",
      "2      3.0  \n",
      "3      3.7  \n",
      "4      3.4  \n",
      "...    ...  \n",
      "8727  15.4  \n",
      "8728  15.4  \n",
      "8729   7.0  \n",
      "8730   3.0  \n",
      "8731   3.7  \n",
      "\n",
      "[8732 rows x 14 columns]\n"
     ]
    }
   ],
   "source": [
    "print(df)"
   ]
  },
  {
   "cell_type": "code",
   "execution_count": 105,
   "id": "402ceed1-8294-40ce-ab44-a444d7899d1b",
   "metadata": {},
   "outputs": [
    {
     "data": {
      "text/html": [
       "<div>\n",
       "<style scoped>\n",
       "    .dataframe tbody tr th:only-of-type {\n",
       "        vertical-align: middle;\n",
       "    }\n",
       "\n",
       "    .dataframe tbody tr th {\n",
       "        vertical-align: top;\n",
       "    }\n",
       "\n",
       "    .dataframe thead th {\n",
       "        text-align: right;\n",
       "    }\n",
       "</style>\n",
       "<table border=\"1\" class=\"dataframe\">\n",
       "  <thead>\n",
       "    <tr style=\"text-align: right;\">\n",
       "      <th></th>\n",
       "      <th>Sl. No.</th>\n",
       "      <th>ROAD_NUMBER</th>\n",
       "      <th>JRDCN_CODE</th>\n",
       "      <th>LKP_ROAD_CATEGORY</th>\n",
       "      <th>JRDCN_SHORT_CODE</th>\n",
       "      <th>DIRECTIONFLAG</th>\n",
       "      <th>CRACK_EXTENT</th>\n",
       "      <th>POTH_EXTENT</th>\n",
       "      <th>RAVE_EXTENT</th>\n",
       "      <th>RUTT_EXTENT</th>\n",
       "      <th>EDGE_BREAK_EXTENT</th>\n",
       "      <th>FAILED_SECTION_EXTENT</th>\n",
       "      <th>SHOULDER_DROP_OFF_SEVERITY</th>\n",
       "      <th>IRI</th>\n",
       "    </tr>\n",
       "  </thead>\n",
       "  <tbody>\n",
       "    <tr>\n",
       "      <th>0</th>\n",
       "      <td>1</td>\n",
       "      <td>12</td>\n",
       "      <td>7</td>\n",
       "      <td>SH</td>\n",
       "      <td>GOALPARA</td>\n",
       "      <td>A</td>\n",
       "      <td>0.0</td>\n",
       "      <td>0.0</td>\n",
       "      <td>0.0</td>\n",
       "      <td>0.0</td>\n",
       "      <td>0.0</td>\n",
       "      <td>0.0</td>\n",
       "      <td>0.0</td>\n",
       "      <td>4.5</td>\n",
       "    </tr>\n",
       "    <tr>\n",
       "      <th>1</th>\n",
       "      <td>2</td>\n",
       "      <td>12</td>\n",
       "      <td>7</td>\n",
       "      <td>SH</td>\n",
       "      <td>GOALPARA</td>\n",
       "      <td>A</td>\n",
       "      <td>0.0</td>\n",
       "      <td>0.0</td>\n",
       "      <td>0.0</td>\n",
       "      <td>0.0</td>\n",
       "      <td>0.0</td>\n",
       "      <td>0.0</td>\n",
       "      <td>0.0</td>\n",
       "      <td>3.6</td>\n",
       "    </tr>\n",
       "    <tr>\n",
       "      <th>2</th>\n",
       "      <td>3</td>\n",
       "      <td>12</td>\n",
       "      <td>7</td>\n",
       "      <td>SH</td>\n",
       "      <td>GOALPARA</td>\n",
       "      <td>A</td>\n",
       "      <td>0.0</td>\n",
       "      <td>0.0</td>\n",
       "      <td>0.0</td>\n",
       "      <td>0.0</td>\n",
       "      <td>0.0</td>\n",
       "      <td>0.0</td>\n",
       "      <td>0.0</td>\n",
       "      <td>3.0</td>\n",
       "    </tr>\n",
       "    <tr>\n",
       "      <th>3</th>\n",
       "      <td>4</td>\n",
       "      <td>12</td>\n",
       "      <td>7</td>\n",
       "      <td>SH</td>\n",
       "      <td>GOALPARA</td>\n",
       "      <td>A</td>\n",
       "      <td>0.0</td>\n",
       "      <td>0.0</td>\n",
       "      <td>0.0</td>\n",
       "      <td>0.0</td>\n",
       "      <td>0.0</td>\n",
       "      <td>0.0</td>\n",
       "      <td>0.0</td>\n",
       "      <td>3.7</td>\n",
       "    </tr>\n",
       "    <tr>\n",
       "      <th>4</th>\n",
       "      <td>5</td>\n",
       "      <td>12</td>\n",
       "      <td>7</td>\n",
       "      <td>SH</td>\n",
       "      <td>GOALPARA</td>\n",
       "      <td>A</td>\n",
       "      <td>0.0</td>\n",
       "      <td>0.0</td>\n",
       "      <td>0.0</td>\n",
       "      <td>0.0</td>\n",
       "      <td>0.0</td>\n",
       "      <td>0.0</td>\n",
       "      <td>0.0</td>\n",
       "      <td>3.4</td>\n",
       "    </tr>\n",
       "  </tbody>\n",
       "</table>\n",
       "</div>"
      ],
      "text/plain": [
       "   Sl. No. ROAD_NUMBER  JRDCN_CODE LKP_ROAD_CATEGORY JRDCN_SHORT_CODE  \\\n",
       "0        1          12           7                SH         GOALPARA   \n",
       "1        2          12           7                SH         GOALPARA   \n",
       "2        3          12           7                SH         GOALPARA   \n",
       "3        4          12           7                SH         GOALPARA   \n",
       "4        5          12           7                SH         GOALPARA   \n",
       "\n",
       "  DIRECTIONFLAG  CRACK_EXTENT  POTH_EXTENT  RAVE_EXTENT  RUTT_EXTENT  \\\n",
       "0             A           0.0          0.0          0.0          0.0   \n",
       "1             A           0.0          0.0          0.0          0.0   \n",
       "2             A           0.0          0.0          0.0          0.0   \n",
       "3             A           0.0          0.0          0.0          0.0   \n",
       "4             A           0.0          0.0          0.0          0.0   \n",
       "\n",
       "   EDGE_BREAK_EXTENT  FAILED_SECTION_EXTENT  SHOULDER_DROP_OFF_SEVERITY  IRI  \n",
       "0                0.0                    0.0                         0.0  4.5  \n",
       "1                0.0                    0.0                         0.0  3.6  \n",
       "2                0.0                    0.0                         0.0  3.0  \n",
       "3                0.0                    0.0                         0.0  3.7  \n",
       "4                0.0                    0.0                         0.0  3.4  "
      ]
     },
     "execution_count": 105,
     "metadata": {},
     "output_type": "execute_result"
    }
   ],
   "source": [
    "df.head()"
   ]
  },
  {
   "cell_type": "code",
   "execution_count": 106,
   "id": "3a3b9054-829e-4b74-891c-4a2ca0be65af",
   "metadata": {},
   "outputs": [
    {
     "data": {
      "text/plain": [
       "count    8531.000000\n",
       "mean        6.735775\n",
       "std         4.323877\n",
       "min         1.400000\n",
       "25%         3.300000\n",
       "50%         5.000000\n",
       "75%         9.200000\n",
       "max        15.400000\n",
       "Name: IRI, dtype: float64"
      ]
     },
     "execution_count": 106,
     "metadata": {},
     "output_type": "execute_result"
    }
   ],
   "source": [
    "df['IRI'].describe()"
   ]
  },
  {
   "cell_type": "code",
   "execution_count": 107,
   "id": "f2be6981-cffc-45cf-8c66-7e55299f2bd5",
   "metadata": {},
   "outputs": [],
   "source": [
    "dfnew =  df[(df.iloc[:, 1:] != -99).all(axis=1)]"
   ]
  },
  {
   "cell_type": "code",
   "execution_count": 108,
   "id": "41582e75-a746-4a5a-ae71-cbd9869077d6",
   "metadata": {},
   "outputs": [
    {
     "name": "stdout",
     "output_type": "stream",
     "text": [
      "      Sl. No. ROAD_NUMBER  JRDCN_CODE LKP_ROAD_CATEGORY JRDCN_SHORT_CODE  \\\n",
      "0           1          12           7                SH         GOALPARA   \n",
      "1           2          12           7                SH         GOALPARA   \n",
      "2           3          12           7                SH         GOALPARA   \n",
      "3           4          12           7                SH         GOALPARA   \n",
      "4           5          12           7                SH         GOALPARA   \n",
      "...       ...         ...         ...               ...              ...   \n",
      "8727     8728           2          62               MDR              WKA   \n",
      "8728     8729           2          62               MDR              WKA   \n",
      "8729     8730           2          62               MDR              WKA   \n",
      "8730     8731           1         500               MDR       NONPWDROAD   \n",
      "8731     8732           1         500               MDR       NONPWDROAD   \n",
      "\n",
      "     DIRECTIONFLAG  CRACK_EXTENT  POTH_EXTENT  RAVE_EXTENT  RUTT_EXTENT  \\\n",
      "0                A           0.0          0.0          0.0          0.0   \n",
      "1                A           0.0          0.0          0.0          0.0   \n",
      "2                A           0.0          0.0          0.0          0.0   \n",
      "3                A           0.0          0.0          0.0          0.0   \n",
      "4                A           0.0          0.0          0.0          0.0   \n",
      "...            ...           ...          ...          ...          ...   \n",
      "8727             A           0.0          0.0          0.0          0.0   \n",
      "8728             A           0.0          0.0          0.0          0.0   \n",
      "8729             A           1.0          1.0          0.0          3.0   \n",
      "8730             A           2.0          1.0          1.0          3.0   \n",
      "8731             A           2.0          0.0          0.0          3.0   \n",
      "\n",
      "      EDGE_BREAK_EXTENT  FAILED_SECTION_EXTENT  SHOULDER_DROP_OFF_SEVERITY  \\\n",
      "0                   0.0                    0.0                         0.0   \n",
      "1                   0.0                    0.0                         0.0   \n",
      "2                   0.0                    0.0                         0.0   \n",
      "3                   0.0                    0.0                         0.0   \n",
      "4                   0.0                    0.0                         0.0   \n",
      "...                 ...                    ...                         ...   \n",
      "8727                0.0                    3.0                         0.0   \n",
      "8728                0.0                    3.0                         0.0   \n",
      "8729                0.0                    0.0                         0.0   \n",
      "8730                0.0                    0.0                         0.0   \n",
      "8731                0.0                    0.0                         0.0   \n",
      "\n",
      "       IRI  \n",
      "0      4.5  \n",
      "1      3.6  \n",
      "2      3.0  \n",
      "3      3.7  \n",
      "4      3.4  \n",
      "...    ...  \n",
      "8727  15.4  \n",
      "8728  15.4  \n",
      "8729   7.0  \n",
      "8730   3.0  \n",
      "8731   3.7  \n",
      "\n",
      "[8546 rows x 14 columns]\n"
     ]
    }
   ],
   "source": [
    "print(dfnew)"
   ]
  },
  {
   "cell_type": "code",
   "execution_count": 109,
   "id": "34fdb7af-f5d0-40e4-9d9e-8528bb6d129c",
   "metadata": {},
   "outputs": [
    {
     "name": "stdout",
     "output_type": "stream",
     "text": [
      "      Sl. No. ROAD_NUMBER  JRDCN_CODE LKP_ROAD_CATEGORY JRDCN_SHORT_CODE  \\\n",
      "0           1          12           7                SH         GOALPARA   \n",
      "1           2          12           7                SH         GOALPARA   \n",
      "2           3          12           7                SH         GOALPARA   \n",
      "3           4          12           7                SH         GOALPARA   \n",
      "4           5          12           7                SH         GOALPARA   \n",
      "...       ...         ...         ...               ...              ...   \n",
      "8727     8728           2          62               MDR              WKA   \n",
      "8728     8729           2          62               MDR              WKA   \n",
      "8729     8730           2          62               MDR              WKA   \n",
      "8730     8731           1         500               MDR       NONPWDROAD   \n",
      "8731     8732           1         500               MDR       NONPWDROAD   \n",
      "\n",
      "     DIRECTIONFLAG  CRACK_EXTENT  POTH_EXTENT  RAVE_EXTENT  RUTT_EXTENT  \\\n",
      "0                A           0.0          0.0          0.0          0.0   \n",
      "1                A           0.0          0.0          0.0          0.0   \n",
      "2                A           0.0          0.0          0.0          0.0   \n",
      "3                A           0.0          0.0          0.0          0.0   \n",
      "4                A           0.0          0.0          0.0          0.0   \n",
      "...            ...           ...          ...          ...          ...   \n",
      "8727             A           0.0          0.0          0.0          0.0   \n",
      "8728             A           0.0          0.0          0.0          0.0   \n",
      "8729             A           1.0          1.0          0.0          3.0   \n",
      "8730             A           2.0          1.0          1.0          3.0   \n",
      "8731             A           2.0          0.0          0.0          3.0   \n",
      "\n",
      "      EDGE_BREAK_EXTENT  FAILED_SECTION_EXTENT  SHOULDER_DROP_OFF_SEVERITY  \\\n",
      "0                   0.0                    0.0                         0.0   \n",
      "1                   0.0                    0.0                         0.0   \n",
      "2                   0.0                    0.0                         0.0   \n",
      "3                   0.0                    0.0                         0.0   \n",
      "4                   0.0                    0.0                         0.0   \n",
      "...                 ...                    ...                         ...   \n",
      "8727                0.0                    3.0                         0.0   \n",
      "8728                0.0                    3.0                         0.0   \n",
      "8729                0.0                    0.0                         0.0   \n",
      "8730                0.0                    0.0                         0.0   \n",
      "8731                0.0                    0.0                         0.0   \n",
      "\n",
      "       IRI  \n",
      "0      4.5  \n",
      "1      3.6  \n",
      "2      3.0  \n",
      "3      3.7  \n",
      "4      3.4  \n",
      "...    ...  \n",
      "8727  15.4  \n",
      "8728  15.4  \n",
      "8729   7.0  \n",
      "8730   3.0  \n",
      "8731   3.7  \n",
      "\n",
      "[8732 rows x 14 columns]\n"
     ]
    }
   ],
   "source": [
    "print(df)"
   ]
  },
  {
   "cell_type": "code",
   "execution_count": 110,
   "id": "8aad1851-bb53-472a-9ae4-4115a7222efc",
   "metadata": {},
   "outputs": [],
   "source": [
    "df.dropna(subset=['IRI'], inplace=True)"
   ]
  },
  {
   "cell_type": "code",
   "execution_count": 111,
   "id": "06f0b42d-fbe2-47ea-95aa-adaf1a64ec52",
   "metadata": {},
   "outputs": [
    {
     "name": "stdout",
     "output_type": "stream",
     "text": [
      "      Sl. No. ROAD_NUMBER  JRDCN_CODE LKP_ROAD_CATEGORY JRDCN_SHORT_CODE  \\\n",
      "0           1          12           7                SH         GOALPARA   \n",
      "1           2          12           7                SH         GOALPARA   \n",
      "2           3          12           7                SH         GOALPARA   \n",
      "3           4          12           7                SH         GOALPARA   \n",
      "4           5          12           7                SH         GOALPARA   \n",
      "...       ...         ...         ...               ...              ...   \n",
      "8727     8728           2          62               MDR              WKA   \n",
      "8728     8729           2          62               MDR              WKA   \n",
      "8729     8730           2          62               MDR              WKA   \n",
      "8730     8731           1         500               MDR       NONPWDROAD   \n",
      "8731     8732           1         500               MDR       NONPWDROAD   \n",
      "\n",
      "     DIRECTIONFLAG  CRACK_EXTENT  POTH_EXTENT  RAVE_EXTENT  RUTT_EXTENT  \\\n",
      "0                A           0.0          0.0          0.0          0.0   \n",
      "1                A           0.0          0.0          0.0          0.0   \n",
      "2                A           0.0          0.0          0.0          0.0   \n",
      "3                A           0.0          0.0          0.0          0.0   \n",
      "4                A           0.0          0.0          0.0          0.0   \n",
      "...            ...           ...          ...          ...          ...   \n",
      "8727             A           0.0          0.0          0.0          0.0   \n",
      "8728             A           0.0          0.0          0.0          0.0   \n",
      "8729             A           1.0          1.0          0.0          3.0   \n",
      "8730             A           2.0          1.0          1.0          3.0   \n",
      "8731             A           2.0          0.0          0.0          3.0   \n",
      "\n",
      "      EDGE_BREAK_EXTENT  FAILED_SECTION_EXTENT  SHOULDER_DROP_OFF_SEVERITY  \\\n",
      "0                   0.0                    0.0                         0.0   \n",
      "1                   0.0                    0.0                         0.0   \n",
      "2                   0.0                    0.0                         0.0   \n",
      "3                   0.0                    0.0                         0.0   \n",
      "4                   0.0                    0.0                         0.0   \n",
      "...                 ...                    ...                         ...   \n",
      "8727                0.0                    3.0                         0.0   \n",
      "8728                0.0                    3.0                         0.0   \n",
      "8729                0.0                    0.0                         0.0   \n",
      "8730                0.0                    0.0                         0.0   \n",
      "8731                0.0                    0.0                         0.0   \n",
      "\n",
      "       IRI  \n",
      "0      4.5  \n",
      "1      3.6  \n",
      "2      3.0  \n",
      "3      3.7  \n",
      "4      3.4  \n",
      "...    ...  \n",
      "8727  15.4  \n",
      "8728  15.4  \n",
      "8729   7.0  \n",
      "8730   3.0  \n",
      "8731   3.7  \n",
      "\n",
      "[8531 rows x 14 columns]\n"
     ]
    }
   ],
   "source": [
    "print(df)"
   ]
  },
  {
   "cell_type": "code",
   "execution_count": 112,
   "id": "a375920d-a241-450a-b569-95e632f376d7",
   "metadata": {},
   "outputs": [],
   "source": [
    "df_dropped = df.dropna()"
   ]
  },
  {
   "cell_type": "code",
   "execution_count": 113,
   "id": "f12db2e3-7ff1-4655-b9c4-1ece6f1dea2b",
   "metadata": {},
   "outputs": [
    {
     "name": "stdout",
     "output_type": "stream",
     "text": [
      "      Sl. No. ROAD_NUMBER  JRDCN_CODE LKP_ROAD_CATEGORY JRDCN_SHORT_CODE  \\\n",
      "0           1          12           7                SH         GOALPARA   \n",
      "1           2          12           7                SH         GOALPARA   \n",
      "2           3          12           7                SH         GOALPARA   \n",
      "3           4          12           7                SH         GOALPARA   \n",
      "4           5          12           7                SH         GOALPARA   \n",
      "...       ...         ...         ...               ...              ...   \n",
      "8727     8728           2          62               MDR              WKA   \n",
      "8728     8729           2          62               MDR              WKA   \n",
      "8729     8730           2          62               MDR              WKA   \n",
      "8730     8731           1         500               MDR       NONPWDROAD   \n",
      "8731     8732           1         500               MDR       NONPWDROAD   \n",
      "\n",
      "     DIRECTIONFLAG  CRACK_EXTENT  POTH_EXTENT  RAVE_EXTENT  RUTT_EXTENT  \\\n",
      "0                A           0.0          0.0          0.0          0.0   \n",
      "1                A           0.0          0.0          0.0          0.0   \n",
      "2                A           0.0          0.0          0.0          0.0   \n",
      "3                A           0.0          0.0          0.0          0.0   \n",
      "4                A           0.0          0.0          0.0          0.0   \n",
      "...            ...           ...          ...          ...          ...   \n",
      "8727             A           0.0          0.0          0.0          0.0   \n",
      "8728             A           0.0          0.0          0.0          0.0   \n",
      "8729             A           1.0          1.0          0.0          3.0   \n",
      "8730             A           2.0          1.0          1.0          3.0   \n",
      "8731             A           2.0          0.0          0.0          3.0   \n",
      "\n",
      "      EDGE_BREAK_EXTENT  FAILED_SECTION_EXTENT  SHOULDER_DROP_OFF_SEVERITY  \\\n",
      "0                   0.0                    0.0                         0.0   \n",
      "1                   0.0                    0.0                         0.0   \n",
      "2                   0.0                    0.0                         0.0   \n",
      "3                   0.0                    0.0                         0.0   \n",
      "4                   0.0                    0.0                         0.0   \n",
      "...                 ...                    ...                         ...   \n",
      "8727                0.0                    3.0                         0.0   \n",
      "8728                0.0                    3.0                         0.0   \n",
      "8729                0.0                    0.0                         0.0   \n",
      "8730                0.0                    0.0                         0.0   \n",
      "8731                0.0                    0.0                         0.0   \n",
      "\n",
      "       IRI  \n",
      "0      4.5  \n",
      "1      3.6  \n",
      "2      3.0  \n",
      "3      3.7  \n",
      "4      3.4  \n",
      "...    ...  \n",
      "8727  15.4  \n",
      "8728  15.4  \n",
      "8729   7.0  \n",
      "8730   3.0  \n",
      "8731   3.7  \n",
      "\n",
      "[7188 rows x 14 columns]\n"
     ]
    }
   ],
   "source": [
    "print(df_dropped)"
   ]
  },
  {
   "cell_type": "code",
   "execution_count": 114,
   "id": "ea8f4e65-d62e-44ab-8357-bf41ff786925",
   "metadata": {},
   "outputs": [],
   "source": [
    "df.replace(-99, np.nan, inplace=True)"
   ]
  },
  {
   "cell_type": "code",
   "execution_count": 115,
   "id": "cfcbe550-d18a-417c-99bd-12090bcbf2a6",
   "metadata": {},
   "outputs": [
    {
     "name": "stdout",
     "output_type": "stream",
     "text": [
      "      Sl. No. ROAD_NUMBER  JRDCN_CODE LKP_ROAD_CATEGORY JRDCN_SHORT_CODE  \\\n",
      "0           1          12           7                SH         GOALPARA   \n",
      "1           2          12           7                SH         GOALPARA   \n",
      "2           3          12           7                SH         GOALPARA   \n",
      "3           4          12           7                SH         GOALPARA   \n",
      "4           5          12           7                SH         GOALPARA   \n",
      "...       ...         ...         ...               ...              ...   \n",
      "8727     8728           2          62               MDR              WKA   \n",
      "8728     8729           2          62               MDR              WKA   \n",
      "8729     8730           2          62               MDR              WKA   \n",
      "8730     8731           1         500               MDR       NONPWDROAD   \n",
      "8731     8732           1         500               MDR       NONPWDROAD   \n",
      "\n",
      "     DIRECTIONFLAG  CRACK_EXTENT  POTH_EXTENT  RAVE_EXTENT  RUTT_EXTENT  \\\n",
      "0                A           0.0          0.0          0.0          0.0   \n",
      "1                A           0.0          0.0          0.0          0.0   \n",
      "2                A           0.0          0.0          0.0          0.0   \n",
      "3                A           0.0          0.0          0.0          0.0   \n",
      "4                A           0.0          0.0          0.0          0.0   \n",
      "...            ...           ...          ...          ...          ...   \n",
      "8727             A           0.0          0.0          0.0          0.0   \n",
      "8728             A           0.0          0.0          0.0          0.0   \n",
      "8729             A           1.0          1.0          0.0          3.0   \n",
      "8730             A           2.0          1.0          1.0          3.0   \n",
      "8731             A           2.0          0.0          0.0          3.0   \n",
      "\n",
      "      EDGE_BREAK_EXTENT  FAILED_SECTION_EXTENT  SHOULDER_DROP_OFF_SEVERITY  \\\n",
      "0                   0.0                    0.0                         0.0   \n",
      "1                   0.0                    0.0                         0.0   \n",
      "2                   0.0                    0.0                         0.0   \n",
      "3                   0.0                    0.0                         0.0   \n",
      "4                   0.0                    0.0                         0.0   \n",
      "...                 ...                    ...                         ...   \n",
      "8727                0.0                    3.0                         0.0   \n",
      "8728                0.0                    3.0                         0.0   \n",
      "8729                0.0                    0.0                         0.0   \n",
      "8730                0.0                    0.0                         0.0   \n",
      "8731                0.0                    0.0                         0.0   \n",
      "\n",
      "       IRI  \n",
      "0      4.5  \n",
      "1      3.6  \n",
      "2      3.0  \n",
      "3      3.7  \n",
      "4      3.4  \n",
      "...    ...  \n",
      "8727  15.4  \n",
      "8728  15.4  \n",
      "8729   7.0  \n",
      "8730   3.0  \n",
      "8731   3.7  \n",
      "\n",
      "[8531 rows x 14 columns]\n"
     ]
    }
   ],
   "source": [
    "print(df)"
   ]
  },
  {
   "cell_type": "code",
   "execution_count": 116,
   "id": "2bb26779-7b9a-47b1-be6c-08e5b2c77c35",
   "metadata": {},
   "outputs": [],
   "source": [
    "df_dropped = df.dropna()"
   ]
  },
  {
   "cell_type": "code",
   "execution_count": 117,
   "id": "8abe7b72-38a2-4eb0-b2cc-0258348bfee7",
   "metadata": {},
   "outputs": [
    {
     "name": "stdout",
     "output_type": "stream",
     "text": [
      "      Sl. No. ROAD_NUMBER  JRDCN_CODE LKP_ROAD_CATEGORY JRDCN_SHORT_CODE  \\\n",
      "0           1          12           7                SH         GOALPARA   \n",
      "1           2          12           7                SH         GOALPARA   \n",
      "2           3          12           7                SH         GOALPARA   \n",
      "3           4          12           7                SH         GOALPARA   \n",
      "4           5          12           7                SH         GOALPARA   \n",
      "...       ...         ...         ...               ...              ...   \n",
      "8727     8728           2          62               MDR              WKA   \n",
      "8728     8729           2          62               MDR              WKA   \n",
      "8729     8730           2          62               MDR              WKA   \n",
      "8730     8731           1         500               MDR       NONPWDROAD   \n",
      "8731     8732           1         500               MDR       NONPWDROAD   \n",
      "\n",
      "     DIRECTIONFLAG  CRACK_EXTENT  POTH_EXTENT  RAVE_EXTENT  RUTT_EXTENT  \\\n",
      "0                A           0.0          0.0          0.0          0.0   \n",
      "1                A           0.0          0.0          0.0          0.0   \n",
      "2                A           0.0          0.0          0.0          0.0   \n",
      "3                A           0.0          0.0          0.0          0.0   \n",
      "4                A           0.0          0.0          0.0          0.0   \n",
      "...            ...           ...          ...          ...          ...   \n",
      "8727             A           0.0          0.0          0.0          0.0   \n",
      "8728             A           0.0          0.0          0.0          0.0   \n",
      "8729             A           1.0          1.0          0.0          3.0   \n",
      "8730             A           2.0          1.0          1.0          3.0   \n",
      "8731             A           2.0          0.0          0.0          3.0   \n",
      "\n",
      "      EDGE_BREAK_EXTENT  FAILED_SECTION_EXTENT  SHOULDER_DROP_OFF_SEVERITY  \\\n",
      "0                   0.0                    0.0                         0.0   \n",
      "1                   0.0                    0.0                         0.0   \n",
      "2                   0.0                    0.0                         0.0   \n",
      "3                   0.0                    0.0                         0.0   \n",
      "4                   0.0                    0.0                         0.0   \n",
      "...                 ...                    ...                         ...   \n",
      "8727                0.0                    3.0                         0.0   \n",
      "8728                0.0                    3.0                         0.0   \n",
      "8729                0.0                    0.0                         0.0   \n",
      "8730                0.0                    0.0                         0.0   \n",
      "8731                0.0                    0.0                         0.0   \n",
      "\n",
      "       IRI  \n",
      "0      4.5  \n",
      "1      3.6  \n",
      "2      3.0  \n",
      "3      3.7  \n",
      "4      3.4  \n",
      "...    ...  \n",
      "8727  15.4  \n",
      "8728  15.4  \n",
      "8729   7.0  \n",
      "8730   3.0  \n",
      "8731   3.7  \n",
      "\n",
      "[7188 rows x 14 columns]\n"
     ]
    }
   ],
   "source": [
    "print(df_dropped)"
   ]
  },
  {
   "cell_type": "code",
   "execution_count": 118,
   "id": "c4b1b512-a646-4e41-8387-f4a86495aa58",
   "metadata": {},
   "outputs": [
    {
     "name": "stdout",
     "output_type": "stream",
     "text": [
      "      Sl. No. ROAD_NUMBER  JRDCN_CODE LKP_ROAD_CATEGORY JRDCN_SHORT_CODE  \\\n",
      "0           1          12           7                SH         GOALPARA   \n",
      "1           2          12           7                SH         GOALPARA   \n",
      "2           3          12           7                SH         GOALPARA   \n",
      "3           4          12           7                SH         GOALPARA   \n",
      "4           5          12           7                SH         GOALPARA   \n",
      "...       ...         ...         ...               ...              ...   \n",
      "8727     8728           2          62               MDR              WKA   \n",
      "8728     8729           2          62               MDR              WKA   \n",
      "8729     8730           2          62               MDR              WKA   \n",
      "8730     8731           1         500               MDR       NONPWDROAD   \n",
      "8731     8732           1         500               MDR       NONPWDROAD   \n",
      "\n",
      "     DIRECTIONFLAG  CRACK_EXTENT  POTH_EXTENT  RAVE_EXTENT  RUTT_EXTENT  \\\n",
      "0                A           0.0          0.0          0.0          0.0   \n",
      "1                A           0.0          0.0          0.0          0.0   \n",
      "2                A           0.0          0.0          0.0          0.0   \n",
      "3                A           0.0          0.0          0.0          0.0   \n",
      "4                A           0.0          0.0          0.0          0.0   \n",
      "...            ...           ...          ...          ...          ...   \n",
      "8727             A           0.0          0.0          0.0          0.0   \n",
      "8728             A           0.0          0.0          0.0          0.0   \n",
      "8729             A           1.0          1.0          0.0          3.0   \n",
      "8730             A           2.0          1.0          1.0          3.0   \n",
      "8731             A           2.0          0.0          0.0          3.0   \n",
      "\n",
      "      EDGE_BREAK_EXTENT  FAILED_SECTION_EXTENT  SHOULDER_DROP_OFF_SEVERITY  \\\n",
      "0                   0.0                    0.0                         0.0   \n",
      "1                   0.0                    0.0                         0.0   \n",
      "2                   0.0                    0.0                         0.0   \n",
      "3                   0.0                    0.0                         0.0   \n",
      "4                   0.0                    0.0                         0.0   \n",
      "...                 ...                    ...                         ...   \n",
      "8727                0.0                    3.0                         0.0   \n",
      "8728                0.0                    3.0                         0.0   \n",
      "8729                0.0                    0.0                         0.0   \n",
      "8730                0.0                    0.0                         0.0   \n",
      "8731                0.0                    0.0                         0.0   \n",
      "\n",
      "       IRI  \n",
      "0      4.5  \n",
      "1      3.6  \n",
      "2      3.0  \n",
      "3      3.7  \n",
      "4      3.4  \n",
      "...    ...  \n",
      "8727  15.4  \n",
      "8728  15.4  \n",
      "8729   7.0  \n",
      "8730   3.0  \n",
      "8731   3.7  \n",
      "\n",
      "[8531 rows x 14 columns]\n"
     ]
    }
   ],
   "source": [
    "print(df)"
   ]
  },
  {
   "cell_type": "code",
   "execution_count": 119,
   "id": "b4279f03-5f08-47fb-88d8-da8847ac21df",
   "metadata": {},
   "outputs": [],
   "source": [
    "df.replace(-99, np.nan, inplace=True)\n"
   ]
  },
  {
   "cell_type": "code",
   "execution_count": 120,
   "id": "ff0e313c-35d9-49bb-97bf-d67017ba7833",
   "metadata": {},
   "outputs": [
    {
     "name": "stdout",
     "output_type": "stream",
     "text": [
      "      Sl. No. ROAD_NUMBER  JRDCN_CODE LKP_ROAD_CATEGORY JRDCN_SHORT_CODE  \\\n",
      "0           1          12           7                SH         GOALPARA   \n",
      "1           2          12           7                SH         GOALPARA   \n",
      "2           3          12           7                SH         GOALPARA   \n",
      "3           4          12           7                SH         GOALPARA   \n",
      "4           5          12           7                SH         GOALPARA   \n",
      "...       ...         ...         ...               ...              ...   \n",
      "8727     8728           2          62               MDR              WKA   \n",
      "8728     8729           2          62               MDR              WKA   \n",
      "8729     8730           2          62               MDR              WKA   \n",
      "8730     8731           1         500               MDR       NONPWDROAD   \n",
      "8731     8732           1         500               MDR       NONPWDROAD   \n",
      "\n",
      "     DIRECTIONFLAG  CRACK_EXTENT  POTH_EXTENT  RAVE_EXTENT  RUTT_EXTENT  \\\n",
      "0                A           0.0          0.0          0.0          0.0   \n",
      "1                A           0.0          0.0          0.0          0.0   \n",
      "2                A           0.0          0.0          0.0          0.0   \n",
      "3                A           0.0          0.0          0.0          0.0   \n",
      "4                A           0.0          0.0          0.0          0.0   \n",
      "...            ...           ...          ...          ...          ...   \n",
      "8727             A           0.0          0.0          0.0          0.0   \n",
      "8728             A           0.0          0.0          0.0          0.0   \n",
      "8729             A           1.0          1.0          0.0          3.0   \n",
      "8730             A           2.0          1.0          1.0          3.0   \n",
      "8731             A           2.0          0.0          0.0          3.0   \n",
      "\n",
      "      EDGE_BREAK_EXTENT  FAILED_SECTION_EXTENT  SHOULDER_DROP_OFF_SEVERITY  \\\n",
      "0                   0.0                    0.0                         0.0   \n",
      "1                   0.0                    0.0                         0.0   \n",
      "2                   0.0                    0.0                         0.0   \n",
      "3                   0.0                    0.0                         0.0   \n",
      "4                   0.0                    0.0                         0.0   \n",
      "...                 ...                    ...                         ...   \n",
      "8727                0.0                    3.0                         0.0   \n",
      "8728                0.0                    3.0                         0.0   \n",
      "8729                0.0                    0.0                         0.0   \n",
      "8730                0.0                    0.0                         0.0   \n",
      "8731                0.0                    0.0                         0.0   \n",
      "\n",
      "       IRI  \n",
      "0      4.5  \n",
      "1      3.6  \n",
      "2      3.0  \n",
      "3      3.7  \n",
      "4      3.4  \n",
      "...    ...  \n",
      "8727  15.4  \n",
      "8728  15.4  \n",
      "8729   7.0  \n",
      "8730   3.0  \n",
      "8731   3.7  \n",
      "\n",
      "[8531 rows x 14 columns]\n"
     ]
    }
   ],
   "source": [
    "print(df)"
   ]
  },
  {
   "cell_type": "code",
   "execution_count": 121,
   "id": "4915c412-1bca-4f6a-9388-57c8ca18fa5e",
   "metadata": {},
   "outputs": [],
   "source": [
    "df_dropped = df.dropna()"
   ]
  },
  {
   "cell_type": "code",
   "execution_count": 122,
   "id": "18aaf4f0-8c18-43b5-a637-e2bedf296f6e",
   "metadata": {},
   "outputs": [
    {
     "name": "stdout",
     "output_type": "stream",
     "text": [
      "      Sl. No. ROAD_NUMBER  JRDCN_CODE LKP_ROAD_CATEGORY JRDCN_SHORT_CODE  \\\n",
      "0           1          12           7                SH         GOALPARA   \n",
      "1           2          12           7                SH         GOALPARA   \n",
      "2           3          12           7                SH         GOALPARA   \n",
      "3           4          12           7                SH         GOALPARA   \n",
      "4           5          12           7                SH         GOALPARA   \n",
      "...       ...         ...         ...               ...              ...   \n",
      "8727     8728           2          62               MDR              WKA   \n",
      "8728     8729           2          62               MDR              WKA   \n",
      "8729     8730           2          62               MDR              WKA   \n",
      "8730     8731           1         500               MDR       NONPWDROAD   \n",
      "8731     8732           1         500               MDR       NONPWDROAD   \n",
      "\n",
      "     DIRECTIONFLAG  CRACK_EXTENT  POTH_EXTENT  RAVE_EXTENT  RUTT_EXTENT  \\\n",
      "0                A           0.0          0.0          0.0          0.0   \n",
      "1                A           0.0          0.0          0.0          0.0   \n",
      "2                A           0.0          0.0          0.0          0.0   \n",
      "3                A           0.0          0.0          0.0          0.0   \n",
      "4                A           0.0          0.0          0.0          0.0   \n",
      "...            ...           ...          ...          ...          ...   \n",
      "8727             A           0.0          0.0          0.0          0.0   \n",
      "8728             A           0.0          0.0          0.0          0.0   \n",
      "8729             A           1.0          1.0          0.0          3.0   \n",
      "8730             A           2.0          1.0          1.0          3.0   \n",
      "8731             A           2.0          0.0          0.0          3.0   \n",
      "\n",
      "      EDGE_BREAK_EXTENT  FAILED_SECTION_EXTENT  SHOULDER_DROP_OFF_SEVERITY  \\\n",
      "0                   0.0                    0.0                         0.0   \n",
      "1                   0.0                    0.0                         0.0   \n",
      "2                   0.0                    0.0                         0.0   \n",
      "3                   0.0                    0.0                         0.0   \n",
      "4                   0.0                    0.0                         0.0   \n",
      "...                 ...                    ...                         ...   \n",
      "8727                0.0                    3.0                         0.0   \n",
      "8728                0.0                    3.0                         0.0   \n",
      "8729                0.0                    0.0                         0.0   \n",
      "8730                0.0                    0.0                         0.0   \n",
      "8731                0.0                    0.0                         0.0   \n",
      "\n",
      "       IRI  \n",
      "0      4.5  \n",
      "1      3.6  \n",
      "2      3.0  \n",
      "3      3.7  \n",
      "4      3.4  \n",
      "...    ...  \n",
      "8727  15.4  \n",
      "8728  15.4  \n",
      "8729   7.0  \n",
      "8730   3.0  \n",
      "8731   3.7  \n",
      "\n",
      "[7188 rows x 14 columns]\n"
     ]
    }
   ],
   "source": [
    "print(df_dropped)"
   ]
  },
  {
   "cell_type": "code",
   "execution_count": 123,
   "id": "cc191261-4d40-4938-8a11-5091b0c0220d",
   "metadata": {},
   "outputs": [
    {
     "name": "stdout",
     "output_type": "stream",
     "text": [
      "\n",
      "Correlation between Variable1 and Variable2:\n",
      "0.2622522123923401\n"
     ]
    }
   ],
   "source": [
    "correlation = df['CRACK_EXTENT'].corr(df['IRI'])\n",
    "print(\"\\nCorrelation between Variable1 and Variable2:\")\n",
    "print(correlation)"
   ]
  },
  {
   "cell_type": "code",
   "execution_count": 124,
   "id": "5d7f8ca5-f098-4c8a-bff1-7a71e0b49bb1",
   "metadata": {},
   "outputs": [
    {
     "name": "stdout",
     "output_type": "stream",
     "text": [
      "\n",
      "Correlation between POTH_EXTENT and IRI:\n",
      "0.3980503619443588\n"
     ]
    }
   ],
   "source": [
    "correlation = df['POTH_EXTENT'].corr(df['IRI'])\n",
    "print(\"\\nCorrelation between POTH_EXTENT and IRI:\")\n",
    "print(correlation)"
   ]
  },
  {
   "cell_type": "code",
   "execution_count": 125,
   "id": "bb0e7fe4-d7e7-48d2-be5e-6ad2d012f204",
   "metadata": {},
   "outputs": [
    {
     "name": "stdout",
     "output_type": "stream",
     "text": [
      "\n",
      "Correlation between RAVE_EXTENT and IRI:\n",
      "0.42079848061903896\n"
     ]
    }
   ],
   "source": [
    "correlation = df['RAVE_EXTENT'].corr(df['IRI'])\n",
    "print(\"\\nCorrelation between RAVE_EXTENT and IRI:\")\n",
    "print(correlation)"
   ]
  },
  {
   "cell_type": "code",
   "execution_count": 126,
   "id": "816b19ab-db95-4b7a-b876-fe9952195ddb",
   "metadata": {},
   "outputs": [
    {
     "name": "stdout",
     "output_type": "stream",
     "text": [
      "\n",
      "Correlation between RUTT_EXTENT and IRI:\n",
      "0.21810591381273392\n"
     ]
    }
   ],
   "source": [
    "correlation = df['RUTT_EXTENT'].corr(df['IRI'])\n",
    "print(\"\\nCorrelation between RUTT_EXTENT and IRI:\")\n",
    "print(correlation)"
   ]
  },
  {
   "cell_type": "code",
   "execution_count": 127,
   "id": "c763ae80-e189-47f6-905a-07c94988de84",
   "metadata": {},
   "outputs": [
    {
     "name": "stdout",
     "output_type": "stream",
     "text": [
      "\n",
      "Correlation between EDGE_BREAK_EXTENT and IRI:\n",
      "0.28317609597930515\n"
     ]
    }
   ],
   "source": [
    "correlation = df['EDGE_BREAK_EXTENT'].corr(df['IRI'])\n",
    "print(\"\\nCorrelation between EDGE_BREAK_EXTENT and IRI:\")\n",
    "print(correlation)"
   ]
  },
  {
   "cell_type": "code",
   "execution_count": 128,
   "id": "a4e7bb73-37d5-427d-9ba1-a07b159568c3",
   "metadata": {},
   "outputs": [
    {
     "name": "stdout",
     "output_type": "stream",
     "text": [
      "\n",
      "Correlation between FAILED_SECTION_EXTENT and IRI:\n",
      "0.6644404512521336\n"
     ]
    }
   ],
   "source": [
    "correlation = df['FAILED_SECTION_EXTENT'].corr(df['IRI'])\n",
    "print(\"\\nCorrelation between FAILED_SECTION_EXTENT and IRI:\")\n",
    "print(correlation)"
   ]
  },
  {
   "cell_type": "code",
   "execution_count": 129,
   "id": "6918b089-2767-4ebc-9525-b88a3fa29e3d",
   "metadata": {},
   "outputs": [
    {
     "name": "stdout",
     "output_type": "stream",
     "text": [
      "\n",
      "Correlation between SHOULDER_DROP_OFF_SEVERITY and IRI:\n",
      "0.009972510058130024\n"
     ]
    }
   ],
   "source": [
    "correlation = df['SHOULDER_DROP_OFF_SEVERITY'].corr(df['IRI'])\n",
    "print(\"\\nCorrelation between SHOULDER_DROP_OFF_SEVERITY and IRI:\")\n",
    "print(correlation)"
   ]
  },
  {
   "cell_type": "code",
   "execution_count": 130,
   "id": "b7268375-276d-46a6-9199-c004c841ebfd",
   "metadata": {},
   "outputs": [
    {
     "name": "stdout",
     "output_type": "stream",
     "text": [
      "\n",
      "Correlation between IRI and CRACK_EXTENT:\n",
      "0.26225221239234014\n"
     ]
    }
   ],
   "source": [
    "correlation = df['IRI'].corr(df['CRACK_EXTENT'])\n",
    "print(\"\\nCorrelation between IRI and CRACK_EXTENT:\")\n",
    "print(correlation)"
   ]
  },
  {
   "cell_type": "code",
   "execution_count": null,
   "id": "c823a7e1-acf0-4caa-b35d-9d503f0ca4fb",
   "metadata": {},
   "outputs": [],
   "source": [
    "df.dropna(inplace = True)\n",
    "print(df.to_string())"
   ]
  },
  {
   "cell_type": "code",
   "execution_count": 132,
   "id": "37279079-5f42-4cd4-84d3-7e24524bae69",
   "metadata": {},
   "outputs": [],
   "source": [
    "for x in df.index:\n",
    "  if df.loc[x, \"IRI\"] ==\"\":\n",
    "    df.drop(x, inplace = True)"
   ]
  },
  {
   "cell_type": "code",
   "execution_count": null,
   "id": "69656332-d883-4672-aab0-dcefc8ca11c7",
   "metadata": {},
   "outputs": [],
   "source": [
    "print(df.to_string())"
   ]
  },
  {
   "cell_type": "code",
   "execution_count": 134,
   "id": "5d7d0aee-0324-46b1-9746-08916756641b",
   "metadata": {},
   "outputs": [
    {
     "data": {
      "text/plain": [
       "<Axes: xlabel='IRI', ylabel='CRACK_EXTENT'>"
      ]
     },
     "execution_count": 134,
     "metadata": {},
     "output_type": "execute_result"
    },
    {
     "data": {
      "image/png": "[encoded data removed]",
      "text/plain": [
       "<Figure size 640x480 with 1 Axes>"
      ]
     },
     "metadata": {},
     "output_type": "display_data"
    }
   ],
   "source": [
    "df.plot(kind = 'scatter', x = 'IRI', y = 'CRACK_EXTENT')"
   ]
  },
  {
   "cell_type": "code",
   "execution_count": 135,
   "id": "30952236-688b-4f7e-bb8b-3581abc283c2",
   "metadata": {},
   "outputs": [
    {
     "name": "stdout",
     "output_type": "stream",
     "text": [
      "<bound method NDFrame.head of       Sl. No. ROAD_NUMBER  JRDCN_CODE LKP_ROAD_CATEGORY JRDCN_SHORT_CODE  \\\n",
      "0           1          12           7                SH         GOALPARA   \n",
      "1           2          12           7                SH         GOALPARA   \n",
      "2           3          12           7                SH         GOALPARA   \n",
      "3           4          12           7                SH         GOALPARA   \n",
      "4           5          12           7                SH         GOALPARA   \n",
      "...       ...         ...         ...               ...              ...   \n",
      "8727     8728           2          62               MDR              WKA   \n",
      "8728     8729           2          62               MDR              WKA   \n",
      "8729     8730           2          62               MDR              WKA   \n",
      "8730     8731           1         500               MDR       NONPWDROAD   \n",
      "8731     8732           1         500               MDR       NONPWDROAD   \n",
      "\n",
      "     DIRECTIONFLAG  CRACK_EXTENT  POTH_EXTENT  RAVE_EXTENT  RUTT_EXTENT  \\\n",
      "0                A           0.0          0.0          0.0          0.0   \n",
      "1                A           0.0          0.0          0.0          0.0   \n",
      "2                A           0.0          0.0          0.0          0.0   \n",
      "3                A           0.0          0.0          0.0          0.0   \n",
      "4                A           0.0          0.0          0.0          0.0   \n",
      "...            ...           ...          ...          ...          ...   \n",
      "8727             A           0.0          0.0          0.0          0.0   \n",
      "8728             A           0.0          0.0          0.0          0.0   \n",
      "8729             A           1.0          1.0          0.0          3.0   \n",
      "8730             A           2.0          1.0          1.0          3.0   \n",
      "8731             A           2.0          0.0          0.0          3.0   \n",
      "\n",
      "      EDGE_BREAK_EXTENT  FAILED_SECTION_EXTENT  SHOULDER_DROP_OFF_SEVERITY  \\\n",
      "0                   0.0                    0.0                         0.0   \n",
      "1                   0.0                    0.0                         0.0   \n",
      "2                   0.0                    0.0                         0.0   \n",
      "3                   0.0                    0.0                         0.0   \n",
      "4                   0.0                    0.0                         0.0   \n",
      "...                 ...                    ...                         ...   \n",
      "8727                0.0                    3.0                         0.0   \n",
      "8728                0.0                    3.0                         0.0   \n",
      "8729                0.0                    0.0                         0.0   \n",
      "8730                0.0                    0.0                         0.0   \n",
      "8731                0.0                    0.0                         0.0   \n",
      "\n",
      "       IRI  \n",
      "0      4.5  \n",
      "1      3.6  \n",
      "2      3.0  \n",
      "3      3.7  \n",
      "4      3.4  \n",
      "...    ...  \n",
      "8727  15.4  \n",
      "8728  15.4  \n",
      "8729   7.0  \n",
      "8730   3.0  \n",
      "8731   3.7  \n",
      "\n",
      "[7188 rows x 14 columns]>\n"
     ]
    }
   ],
   "source": [
    "print(df.head)"
   ]
  },
  {
   "cell_type": "code",
   "execution_count": 136,
   "id": "5b5d5aea-79c0-4353-b2b5-15933d363fbd",
   "metadata": {},
   "outputs": [
    {
     "name": "stdout",
     "output_type": "stream",
     "text": [
      "Number of rows containing at least one NaN value: 0\n"
     ]
    }
   ],
   "source": [
    "num_rows_with_nan = df.isnull().any(axis=1).sum()\n",
    "print(f'Number of rows containing at least one NaN value: {num_rows_with_nan}')"
   ]
  },
  {
   "cell_type": "code",
   "execution_count": 137,
   "id": "197f917c-1d1f-457e-a36b-16d32b781308",
   "metadata": {},
   "outputs": [
    {
     "name": "stdout",
     "output_type": "stream",
     "text": [
      "Number of rows containing at least one -99 value: 0\n"
     ]
    }
   ],
   "source": [
    "num_rows_with_minus_99 = (df == -99).any(axis=1).sum()\n",
    "print(f'Number of rows containing at least one -99 value: {num_rows_with_minus_99}')"
   ]
  },
  {
   "cell_type": "code",
   "execution_count": 138,
   "id": "f0bca549-65ba-482d-843f-4aaedd60c2c1",
   "metadata": {},
   "outputs": [
    {
     "name": "stdout",
     "output_type": "stream",
     "text": [
      "Number of rows containing at least one \"NA\" value: 0\n"
     ]
    }
   ],
   "source": [
    "num_rows_with_NA = (df == 'NA').any(axis=1).sum()\n",
    "print(f'Number of rows containing at least one \"NA\" value: {num_rows_with_NA}')"
   ]
  },
  {
   "cell_type": "code",
   "execution_count": 139,
   "id": "d99090e9-3c7e-4e90-b3f5-9696a76484bb",
   "metadata": {},
   "outputs": [],
   "source": [
    "import pandas as pd\n",
    "import numpy as np\n",
    "import matplotlib.pyplot as plt\n",
    "from sklearn.linear_model import LinearRegression\n",
    "from sklearn.model_selection import train_test_split\n",
    "import pickle"
   ]
  },
  {
   "cell_type": "code",
   "execution_count": 140,
   "id": "5fc86eaf-4c71-4846-8cf9-b2d3164bd03b",
   "metadata": {},
   "outputs": [],
   "source": [
    "from sklearn.metrics import mean_squared_error, r2_score"
   ]
  },
  {
   "cell_type": "code",
   "execution_count": 141,
   "id": "bbfd88b3-73f9-4de9-8e7a-1151eb932372",
   "metadata": {},
   "outputs": [
    {
     "name": "stdout",
     "output_type": "stream",
     "text": [
      "<bound method NDFrame.head of       Sl. No. ROAD_NUMBER  JRDCN_CODE LKP_ROAD_CATEGORY JRDCN_SHORT_CODE  \\\n",
      "0           1          12           7                SH         GOALPARA   \n",
      "1           2          12           7                SH         GOALPARA   \n",
      "2           3          12           7                SH         GOALPARA   \n",
      "3           4          12           7                SH         GOALPARA   \n",
      "4           5          12           7                SH         GOALPARA   \n",
      "...       ...         ...         ...               ...              ...   \n",
      "8727     8728           2          62               MDR              WKA   \n",
      "8728     8729           2          62               MDR              WKA   \n",
      "8729     8730           2          62               MDR              WKA   \n",
      "8730     8731           1         500               MDR       NONPWDROAD   \n",
      "8731     8732           1         500               MDR       NONPWDROAD   \n",
      "\n",
      "     DIRECTIONFLAG  CRACK_EXTENT  POTH_EXTENT  RAVE_EXTENT  RUTT_EXTENT  \\\n",
      "0                A           0.0          0.0          0.0          0.0   \n",
      "1                A           0.0          0.0          0.0          0.0   \n",
      "2                A           0.0          0.0          0.0          0.0   \n",
      "3                A           0.0          0.0          0.0          0.0   \n",
      "4                A           0.0          0.0          0.0          0.0   \n",
      "...            ...           ...          ...          ...          ...   \n",
      "8727             A           0.0          0.0          0.0          0.0   \n",
      "8728             A           0.0          0.0          0.0          0.0   \n",
      "8729             A           1.0          1.0          0.0          3.0   \n",
      "8730             A           2.0          1.0          1.0          3.0   \n",
      "8731             A           2.0          0.0          0.0          3.0   \n",
      "\n",
      "      EDGE_BREAK_EXTENT  FAILED_SECTION_EXTENT  SHOULDER_DROP_OFF_SEVERITY  \\\n",
      "0                   0.0                    0.0                         0.0   \n",
      "1                   0.0                    0.0                         0.0   \n",
      "2                   0.0                    0.0                         0.0   \n",
      "3                   0.0                    0.0                         0.0   \n",
      "4                   0.0                    0.0                         0.0   \n",
      "...                 ...                    ...                         ...   \n",
      "8727                0.0                    3.0                         0.0   \n",
      "8728                0.0                    3.0                         0.0   \n",
      "8729                0.0                    0.0                         0.0   \n",
      "8730                0.0                    0.0                         0.0   \n",
      "8731                0.0                    0.0                         0.0   \n",
      "\n",
      "       IRI  \n",
      "0      4.5  \n",
      "1      3.6  \n",
      "2      3.0  \n",
      "3      3.7  \n",
      "4      3.4  \n",
      "...    ...  \n",
      "8727  15.4  \n",
      "8728  15.4  \n",
      "8729   7.0  \n",
      "8730   3.0  \n",
      "8731   3.7  \n",
      "\n",
      "[7188 rows x 14 columns]>\n"
     ]
    }
   ],
   "source": [
    "print(df.head)"
   ]
  },
  {
   "cell_type": "code",
   "execution_count": 151,
   "id": "7f6c627d-681c-40b2-8c0d-9470acffb680",
   "metadata": {},
   "outputs": [],
   "source": [
    "x = df[['IRI']]  # Independent variable\n",
    "y = df['CRACK_EXTENT']    # Dependent variable"
   ]
  },
  {
   "cell_type": "code",
   "execution_count": 152,
   "id": "c1ff120d-e3fb-4b6a-802a-abf861f38f03",
   "metadata": {},
   "outputs": [],
   "source": [
    "# Step 4: Split the Data\n",
    "X_train, X_test, y_train, y_test = train_test_split(x, y, test_size=0.2, random_state=42)"
   ]
  },
  {
   "cell_type": "code",
   "execution_count": 153,
   "id": "b8a19930-fe9e-49fe-a3bd-b48d39764574",
   "metadata": {},
   "outputs": [
    {
     "data": {
      "text/html": [
       "<style>#sk-container-id-4 {\n",
       "  /* Definition of color scheme common for light and dark mode */\n",
       "  --sklearn-color-text: black;\n",
       "  --sklearn-color-line: gray;\n",
       "  /* Definition of color scheme for unfitted estimators */\n",
       "  --sklearn-color-unfitted-level-0: #fff5e6;\n",
       "  --sklearn-color-unfitted-level-1: #f6e4d2;\n",
       "  --sklearn-color-unfitted-level-2: #ffe0b3;\n",
       "  --sklearn-color-unfitted-level-3: chocolate;\n",
       "  /* Definition of color scheme for fitted estimators */\n",
       "  --sklearn-color-fitted-level-0: #f0f8ff;\n",
       "  --sklearn-color-fitted-level-1: #d4ebff;\n",
       "  --sklearn-color-fitted-level-2: #b3dbfd;\n",
       "  --sklearn-color-fitted-level-3: cornflowerblue;\n",
       "\n",
       "  /* Specific color for light theme */\n",
       "  --sklearn-color-text-on-default-background: var(--sg-text-color, var(--theme-code-foreground, var(--jp-content-font-color1, black)));\n",
       "  --sklearn-color-background: var(--sg-background-color, var(--theme-background, var(--jp-layout-color0, white)));\n",
       "  --sklearn-color-border-box: var(--sg-text-color, var(--theme-code-foreground, var(--jp-content-font-color1, black)));\n",
       "  --sklearn-color-icon: #696969;\n",
       "\n",
       "  @media (prefers-color-scheme: dark) {\n",
       "    /* Redefinition of color scheme for dark theme */\n",
       "    --sklearn-color-text-on-default-background: var(--sg-text-color, var(--theme-code-foreground, var(--jp-content-font-color1, white)));\n",
       "    --sklearn-color-background: var(--sg-background-color, var(--theme-background, var(--jp-layout-color0, #111)));\n",
       "    --sklearn-color-border-box: var(--sg-text-color, var(--theme-code-foreground, var(--jp-content-font-color1, white)));\n",
       "    --sklearn-color-icon: #878787;\n",
       "  }\n",
       "}\n",
       "\n",
       "#sk-container-id-4 {\n",
       "  color: var(--sklearn-color-text);\n",
       "}\n",
       "\n",
       "#sk-container-id-4 pre {\n",
       "  padding: 0;\n",
       "}\n",
       "\n",
       "#sk-container-id-4 input.sk-hidden--visually {\n",
       "  border: 0;\n",
       "  clip: rect(1px 1px 1px 1px);\n",
       "  clip: rect(1px, 1px, 1px, 1px);\n",
       "  height: 1px;\n",
       "  margin: -1px;\n",
       "  overflow: hidden;\n",
       "  padding: 0;\n",
       "  position: absolute;\n",
       "  width: 1px;\n",
       "}\n",
       "\n",
       "#sk-container-id-4 div.sk-dashed-wrapped {\n",
       "  border: 1px dashed var(--sklearn-color-line);\n",
       "  margin: 0 0.4em 0.5em 0.4em;\n",
       "  box-sizing: border-box;\n",
       "  padding-bottom: 0.4em;\n",
       "  background-color: var(--sklearn-color-background);\n",
       "}\n",
       "\n",
       "#sk-container-id-4 div.sk-container {\n",
       "  /* jupyter's `normalize.less` sets `[hidden] { display: none; }`\n",
       "     but bootstrap.min.css set `[hidden] { display: none !important; }`\n",
       "     so we also need the `!important` here to be able to override the\n",
       "     default hidden behavior on the sphinx rendered scikit-learn.org.\n",
       "     See: https://github.com/scikit-learn/scikit-learn/issues/21755 */\n",
       "  display: inline-block !important;\n",
       "  position: relative;\n",
       "}\n",
       "\n",
       "#sk-container-id-4 div.sk-text-repr-fallback {\n",
       "  display: none;\n",
       "}\n",
       "\n",
       "div.sk-parallel-item,\n",
       "div.sk-serial,\n",
       "div.sk-item {\n",
       "  /* draw centered vertical line to link estimators */\n",
       "  background-image: linear-gradient(var(--sklearn-color-text-on-default-background), var(--sklearn-color-text-on-default-background));\n",
       "  background-size: 2px 100%;\n",
       "  background-repeat: no-repeat;\n",
       "  background-position: center center;\n",
       "}\n",
       "\n",
       "/* Parallel-specific style estimator block */\n",
       "\n",
       "#sk-container-id-4 div.sk-parallel-item::after {\n",
       "  content: \"\";\n",
       "  width: 100%;\n",
       "  border-bottom: 2px solid var(--sklearn-color-text-on-default-background);\n",
       "  flex-grow: 1;\n",
       "}\n",
       "\n",
       "#sk-container-id-4 div.sk-parallel {\n",
       "  display: flex;\n",
       "  align-items: stretch;\n",
       "  justify-content: center;\n",
       "  background-color: var(--sklearn-color-background);\n",
       "  position: relative;\n",
       "}\n",
       "\n",
       "#sk-container-id-4 div.sk-parallel-item {\n",
       "  display: flex;\n",
       "  flex-direction: column;\n",
       "}\n",
       "\n",
       "#sk-container-id-4 div.sk-parallel-item:first-child::after {\n",
       "  align-self: flex-end;\n",
       "  width: 50%;\n",
       "}\n",
       "\n",
       "#sk-container-id-4 div.sk-parallel-item:last-child::after {\n",
       "  align-self: flex-start;\n",
       "  width: 50%;\n",
       "}\n",
       "\n",
       "#sk-container-id-4 div.sk-parallel-item:only-child::after {\n",
       "  width: 0;\n",
       "}\n",
       "\n",
       "/* Serial-specific style estimator block */\n",
       "\n",
       "#sk-container-id-4 div.sk-serial {\n",
       "  display: flex;\n",
       "  flex-direction: column;\n",
       "  align-items: center;\n",
       "  background-color: var(--sklearn-color-background);\n",
       "  padding-right: 1em;\n",
       "  padding-left: 1em;\n",
       "}\n",
       "\n",
       "\n",
       "/* Toggleable style: style used for estimator/Pipeline/ColumnTransformer box that is\n",
       "clickable and can be expanded/collapsed.\n",
       "- Pipeline and ColumnTransformer use this feature and define the default style\n",
       "- Estimators will overwrite some part of the style using the `sk-estimator` class\n",
       "*/\n",
       "\n",
       "/* Pipeline and ColumnTransformer style (default) */\n",
       "\n",
       "#sk-container-id-4 div.sk-toggleable {\n",
       "  /* Default theme specific background. It is overwritten whether we have a\n",
       "  specific estimator or a Pipeline/ColumnTransformer */\n",
       "  background-color: var(--sklearn-color-background);\n",
       "}\n",
       "\n",
       "/* Toggleable label */\n",
       "#sk-container-id-4 label.sk-toggleable__label {\n",
       "  cursor: pointer;\n",
       "  display: block;\n",
       "  width: 100%;\n",
       "  margin-bottom: 0;\n",
       "  padding: 0.5em;\n",
       "  box-sizing: border-box;\n",
       "  text-align: center;\n",
       "}\n",
       "\n",
       "#sk-container-id-4 label.sk-toggleable__label-arrow:before {\n",
       "  /* Arrow on the left of the label */\n",
       "  content: \"▸\";\n",
       "  float: left;\n",
       "  margin-right: 0.25em;\n",
       "  color: var(--sklearn-color-icon);\n",
       "}\n",
       "\n",
       "#sk-container-id-4 label.sk-toggleable__label-arrow:hover:before {\n",
       "  color: var(--sklearn-color-text);\n",
       "}\n",
       "\n",
       "/* Toggleable content - dropdown */\n",
       "\n",
       "#sk-container-id-4 div.sk-toggleable__content {\n",
       "  max-height: 0;\n",
       "  max-width: 0;\n",
       "  overflow: hidden;\n",
       "  text-align: left;\n",
       "  /* unfitted */\n",
       "  background-color: var(--sklearn-color-unfitted-level-0);\n",
       "}\n",
       "\n",
       "#sk-container-id-4 div.sk-toggleable__content.fitted {\n",
       "  /* fitted */\n",
       "  background-color: var(--sklearn-color-fitted-level-0);\n",
       "}\n",
       "\n",
       "#sk-container-id-4 div.sk-toggleable__content pre {\n",
       "  margin: 0.2em;\n",
       "  border-radius: 0.25em;\n",
       "  color: var(--sklearn-color-text);\n",
       "  /* unfitted */\n",
       "  background-color: var(--sklearn-color-unfitted-level-0);\n",
       "}\n",
       "\n",
       "#sk-container-id-4 div.sk-toggleable__content.fitted pre {\n",
       "  /* unfitted */\n",
       "  background-color: var(--sklearn-color-fitted-level-0);\n",
       "}\n",
       "\n",
       "#sk-container-id-4 input.sk-toggleable__control:checked~div.sk-toggleable__content {\n",
       "  /* Expand drop-down */\n",
       "  max-height: 200px;\n",
       "  max-width: 100%;\n",
       "  overflow: auto;\n",
       "}\n",
       "\n",
       "#sk-container-id-4 input.sk-toggleable__control:checked~label.sk-toggleable__label-arrow:before {\n",
       "  content: \"▾\";\n",
       "}\n",
       "\n",
       "/* Pipeline/ColumnTransformer-specific style */\n",
       "\n",
       "#sk-container-id-4 div.sk-label input.sk-toggleable__control:checked~label.sk-toggleable__label {\n",
       "  color: var(--sklearn-color-text);\n",
       "  background-color: var(--sklearn-color-unfitted-level-2);\n",
       "}\n",
       "\n",
       "#sk-container-id-4 div.sk-label.fitted input.sk-toggleable__control:checked~label.sk-toggleable__label {\n",
       "  background-color: var(--sklearn-color-fitted-level-2);\n",
       "}\n",
       "\n",
       "/* Estimator-specific style */\n",
       "\n",
       "/* Colorize estimator box */\n",
       "#sk-container-id-4 div.sk-estimator input.sk-toggleable__control:checked~label.sk-toggleable__label {\n",
       "  /* unfitted */\n",
       "  background-color: var(--sklearn-color-unfitted-level-2);\n",
       "}\n",
       "\n",
       "#sk-container-id-4 div.sk-estimator.fitted input.sk-toggleable__control:checked~label.sk-toggleable__label {\n",
       "  /* fitted */\n",
       "  background-color: var(--sklearn-color-fitted-level-2);\n",
       "}\n",
       "\n",
       "#sk-container-id-4 div.sk-label label.sk-toggleable__label,\n",
       "#sk-container-id-4 div.sk-label label {\n",
       "  /* The background is the default theme color */\n",
       "  color: var(--sklearn-color-text-on-default-background);\n",
       "}\n",
       "\n",
       "/* On hover, darken the color of the background */\n",
       "#sk-container-id-4 div.sk-label:hover label.sk-toggleable__label {\n",
       "  color: var(--sklearn-color-text);\n",
       "  background-color: var(--sklearn-color-unfitted-level-2);\n",
       "}\n",
       "\n",
       "/* Label box, darken color on hover, fitted */\n",
       "#sk-container-id-4 div.sk-label.fitted:hover label.sk-toggleable__label.fitted {\n",
       "  color: var(--sklearn-color-text);\n",
       "  background-color: var(--sklearn-color-fitted-level-2);\n",
       "}\n",
       "\n",
       "/* Estimator label */\n",
       "\n",
       "#sk-container-id-4 div.sk-label label {\n",
       "  font-family: monospace;\n",
       "  font-weight: bold;\n",
       "  display: inline-block;\n",
       "  line-height: 1.2em;\n",
       "}\n",
       "\n",
       "#sk-container-id-4 div.sk-label-container {\n",
       "  text-align: center;\n",
       "}\n",
       "\n",
       "/* Estimator-specific */\n",
       "#sk-container-id-4 div.sk-estimator {\n",
       "  font-family: monospace;\n",
       "  border: 1px dotted var(--sklearn-color-border-box);\n",
       "  border-radius: 0.25em;\n",
       "  box-sizing: border-box;\n",
       "  margin-bottom: 0.5em;\n",
       "  /* unfitted */\n",
       "  background-color: var(--sklearn-color-unfitted-level-0);\n",
       "}\n",
       "\n",
       "#sk-container-id-4 div.sk-estimator.fitted {\n",
       "  /* fitted */\n",
       "  background-color: var(--sklearn-color-fitted-level-0);\n",
       "}\n",
       "\n",
       "/* on hover */\n",
       "#sk-container-id-4 div.sk-estimator:hover {\n",
       "  /* unfitted */\n",
       "  background-color: var(--sklearn-color-unfitted-level-2);\n",
       "}\n",
       "\n",
       "#sk-container-id-4 div.sk-estimator.fitted:hover {\n",
       "  /* fitted */\n",
       "  background-color: var(--sklearn-color-fitted-level-2);\n",
       "}\n",
       "\n",
       "/* Specification for estimator info (e.g. \"i\" and \"?\") */\n",
       "\n",
       "/* Common style for \"i\" and \"?\" */\n",
       "\n",
       ".sk-estimator-doc-link,\n",
       "a:link.sk-estimator-doc-link,\n",
       "a:visited.sk-estimator-doc-link {\n",
       "  float: right;\n",
       "  font-size: smaller;\n",
       "  line-height: 1em;\n",
       "  font-family: monospace;\n",
       "  background-color: var(--sklearn-color-background);\n",
       "  border-radius: 1em;\n",
       "  height: 1em;\n",
       "  width: 1em;\n",
       "  text-decoration: none !important;\n",
       "  margin-left: 1ex;\n",
       "  /* unfitted */\n",
       "  border: var(--sklearn-color-unfitted-level-1) 1pt solid;\n",
       "  color: var(--sklearn-color-unfitted-level-1);\n",
       "}\n",
       "\n",
       ".sk-estimator-doc-link.fitted,\n",
       "a:link.sk-estimator-doc-link.fitted,\n",
       "a:visited.sk-estimator-doc-link.fitted {\n",
       "  /* fitted */\n",
       "  border: var(--sklearn-color-fitted-level-1) 1pt solid;\n",
       "  color: var(--sklearn-color-fitted-level-1);\n",
       "}\n",
       "\n",
       "/* On hover */\n",
       "div.sk-estimator:hover .sk-estimator-doc-link:hover,\n",
       ".sk-estimator-doc-link:hover,\n",
       "div.sk-label-container:hover .sk-estimator-doc-link:hover,\n",
       ".sk-estimator-doc-link:hover {\n",
       "  /* unfitted */\n",
       "  background-color: var(--sklearn-color-unfitted-level-3);\n",
       "  color: var(--sklearn-color-background);\n",
       "  text-decoration: none;\n",
       "}\n",
       "\n",
       "div.sk-estimator.fitted:hover .sk-estimator-doc-link.fitted:hover,\n",
       ".sk-estimator-doc-link.fitted:hover,\n",
       "div.sk-label-container:hover .sk-estimator-doc-link.fitted:hover,\n",
       ".sk-estimator-doc-link.fitted:hover {\n",
       "  /* fitted */\n",
       "  background-color: var(--sklearn-color-fitted-level-3);\n",
       "  color: var(--sklearn-color-background);\n",
       "  text-decoration: none;\n",
       "}\n",
       "\n",
       "/* Span, style for the box shown on hovering the info icon */\n",
       ".sk-estimator-doc-link span {\n",
       "  display: none;\n",
       "  z-index: 9999;\n",
       "  position: relative;\n",
       "  font-weight: normal;\n",
       "  right: .2ex;\n",
       "  padding: .5ex;\n",
       "  margin: .5ex;\n",
       "  width: min-content;\n",
       "  min-width: 20ex;\n",
       "  max-width: 50ex;\n",
       "  color: var(--sklearn-color-text);\n",
       "  box-shadow: 2pt 2pt 4pt #999;\n",
       "  /* unfitted */\n",
       "  background: var(--sklearn-color-unfitted-level-0);\n",
       "  border: .5pt solid var(--sklearn-color-unfitted-level-3);\n",
       "}\n",
       "\n",
       ".sk-estimator-doc-link.fitted span {\n",
       "  /* fitted */\n",
       "  background: var(--sklearn-color-fitted-level-0);\n",
       "  border: var(--sklearn-color-fitted-level-3);\n",
       "}\n",
       "\n",
       ".sk-estimator-doc-link:hover span {\n",
       "  display: block;\n",
       "}\n",
       "\n",
       "/* \"?\"-specific style due to the `<a>` HTML tag */\n",
       "\n",
       "#sk-container-id-4 a.estimator_doc_link {\n",
       "  float: right;\n",
       "  font-size: 1rem;\n",
       "  line-height: 1em;\n",
       "  font-family: monospace;\n",
       "  background-color: var(--sklearn-color-background);\n",
       "  border-radius: 1rem;\n",
       "  height: 1rem;\n",
       "  width: 1rem;\n",
       "  text-decoration: none;\n",
       "  /* unfitted */\n",
       "  color: var(--sklearn-color-unfitted-level-1);\n",
       "  border: var(--sklearn-color-unfitted-level-1) 1pt solid;\n",
       "}\n",
       "\n",
       "#sk-container-id-4 a.estimator_doc_link.fitted {\n",
       "  /* fitted */\n",
       "  border: var(--sklearn-color-fitted-level-1) 1pt solid;\n",
       "  color: var(--sklearn-color-fitted-level-1);\n",
       "}\n",
       "\n",
       "/* On hover */\n",
       "#sk-container-id-4 a.estimator_doc_link:hover {\n",
       "  /* unfitted */\n",
       "  background-color: var(--sklearn-color-unfitted-level-3);\n",
       "  color: var(--sklearn-color-background);\n",
       "  text-decoration: none;\n",
       "}\n",
       "\n",
       "#sk-container-id-4 a.estimator_doc_link.fitted:hover {\n",
       "  /* fitted */\n",
       "  background-color: var(--sklearn-color-fitted-level-3);\n",
       "}\n",
       "</style><div id=\"sk-container-id-4\" class=\"sk-top-container\"><div class=\"sk-text-repr-fallback\"><pre>LinearRegression()</pre><b>In a Jupyter environment, please rerun this cell to show the HTML representation or trust the notebook. <br />On GitHub, the HTML representation is unable to render, please try loading this page with nbviewer.org.</b></div><div class=\"sk-container\" hidden><div class=\"sk-item\"><div class=\"sk-estimator fitted sk-toggleable\"><input class=\"sk-toggleable__control sk-hidden--visually\" id=\"sk-estimator-id-4\" type=\"checkbox\" checked><label for=\"sk-estimator-id-4\" class=\"sk-toggleable__label fitted sk-toggleable__label-arrow fitted\">&nbsp;&nbsp;LinearRegression<a class=\"sk-estimator-doc-link fitted\" rel=\"noreferrer\" target=\"_blank\" href=\"https://scikit-learn.org/1.4/modules/generated/sklearn.linear_model.LinearRegression.html\">?<span>Documentation for LinearRegression</span></a><span class=\"sk-estimator-doc-link fitted\">i<span>Fitted</span></span></label><div class=\"sk-toggleable__content fitted\"><pre>LinearRegression()</pre></div> </div></div></div></div>"
      ],
      "text/plain": [
       "LinearRegression()"
      ]
     },
     "execution_count": 153,
     "metadata": {},
     "output_type": "execute_result"
    }
   ],
   "source": [
    "# Step 5: Train the Model\n",
    "model = LinearRegression()\n",
    "model.fit(X_train, y_train)"
   ]
  },
  {
   "cell_type": "code",
   "execution_count": 154,
   "id": "242e13db-a62f-4e38-a3f6-af58b21c958e",
   "metadata": {},
   "outputs": [],
   "source": [
    "# Step 6: Make Predictions\n",
    "y_pred = model.predict(X_test)"
   ]
  },
  {
   "cell_type": "code",
   "execution_count": 158,
   "id": "a7088b1a-0c23-4691-bc42-5ce405fc0ddd",
   "metadata": {},
   "outputs": [],
   "source": [
    "# Step 7: Evaluate the Model\n",
    "mse = mean_squared_error(y_test, y_pred)\n",
    "r2 = r2_score(y_test, y_pred)"
   ]
  },
  {
   "cell_type": "code",
   "execution_count": 159,
   "id": "b70cbfd7-f68f-4bbb-986c-c8ca4ecc34cf",
   "metadata": {},
   "outputs": [
    {
     "name": "stdout",
     "output_type": "stream",
     "text": [
      "Mean Squared Error: 0.5879972083515861\n",
      "R^2 Score: 0.05365889211204189\n"
     ]
    }
   ],
   "source": [
    "print(f'Mean Squared Error: {mse}')\n",
    "print(f'R^2 Score: {r2}')"
   ]
  },
  {
   "cell_type": "code",
   "execution_count": 157,
   "id": "3e1f1e9c-b42b-410a-815c-5c0f27466c0a",
   "metadata": {},
   "outputs": [
    {
     "data": {
      "image/png": "[encoded data removed]",
      "text/plain": [
       "<Figure size 640x480 with 1 Axes>"
      ]
     },
     "metadata": {},
     "output_type": "display_data"
    }
   ],
   "source": [
    "plt.scatter(X_test, y_test, color='blue', label='Actual')\n",
    "plt.plot(X_test, y_pred, color='red', linewidth=2, label='Predicted')\n",
    "plt.xlabel('CRACK_EXTENT')\n",
    "plt.ylabel('IRI')\n",
    "plt.title('Regression Model')\n",
    "plt.legend()\n",
    "plt.show()\n"
   ]
  },
  {
   "cell_type": "code",
   "execution_count": 160,
   "id": "a266bee7-0318-431d-ae1b-acc61b42f40e",
   "metadata": {},
   "outputs": [
    {
     "name": "stdout",
     "output_type": "stream",
     "text": [
      "Model saved as 'Crackprediction_Model2.pkl'\n",
      "Loaded Model Predictions: [0.44458687 0.42828154 0.98809805 ... 0.30870908 0.77069358 0.35762508]\n"
     ]
    }
   ],
   "source": [
    "# Step 8: Save the Model as a Pickle File\n",
    "with open('Crackprediction_Model2.pkl', 'wb') as f:\n",
    "    pickle.dump(model,f)\n",
    "\n",
    "print(\"Model saved as 'Crackprediction_Model2.pkl'\")\n",
    "\n",
    "# Optional: Load the Model from the Pickle File to verify\n",
    "with open('Crackprediction_Model2.pkl', 'rb') as f:\n",
    "    loaded_model = pickle.load(f)\n",
    "\n",
    "# Verify that the loaded model works by making a prediction\n",
    "loaded_model_predictions = loaded_model.predict(X_test)\n",
    "print(f'Loaded Model Predictions: {loaded_model_predictions}')"
   ]
  }
 ],
 "metadata": {
  "kernelspec": {
   "display_name": "Python 3 (ipykernel)",
   "language": "python",
   "name": "python3"
  },
  "language_info": {
   "codemirror_mode": {
    "name": "ipython",
    "version": 3
   },
   "file_extension": ".py",
   "mimetype": "text/x-python",
   "name": "python",
   "nbconvert_exporter": "python",
   "pygments_lexer": "ipython3",
   "version": "3.11.7"
  }
 },
 "nbformat": 4,
 "nbformat_minor": 5
}
